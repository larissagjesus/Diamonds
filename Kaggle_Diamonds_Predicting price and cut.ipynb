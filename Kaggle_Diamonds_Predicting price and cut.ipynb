{
 "cells": [
  {
   "cell_type": "markdown",
   "id": "69876447",
   "metadata": {},
   "source": [
    "## Predicting the price and the cut of the diamonds\n",
    "Data source: https://www.kaggle.com/datasets/shivam2503/diamonds"
   ]
  },
  {
   "cell_type": "markdown",
   "id": "b3ffd7c1",
   "metadata": {},
   "source": [
    "## Imports\n",
    "Following imports and addtional installations are needed:"
   ]
  },
  {
   "cell_type": "code",
   "execution_count": 69,
   "id": "c19b7d5f",
   "metadata": {},
   "outputs": [
    {
     "name": "stdout",
     "output_type": "stream",
     "text": [
      "Requirement already satisfied: pyod in c:\\users\\lagab\\anaconda3\\lib\\site-packages (1.0.3)\n",
      "Requirement already satisfied: numpy>=1.19 in c:\\users\\lagab\\anaconda3\\lib\\site-packages (from pyod) (1.20.1)\n",
      "Requirement already satisfied: scipy>=1.5.1 in c:\\users\\lagab\\anaconda3\\lib\\site-packages (from pyod) (1.6.2)\n",
      "Requirement already satisfied: six in c:\\users\\lagab\\anaconda3\\lib\\site-packages (from pyod) (1.15.0)\n",
      "Requirement already satisfied: matplotlib in c:\\users\\lagab\\anaconda3\\lib\\site-packages (from pyod) (3.3.4)\n",
      "Requirement already satisfied: joblib in c:\\users\\lagab\\anaconda3\\lib\\site-packages (from pyod) (1.0.1)\n",
      "Requirement already satisfied: numba>=0.51 in c:\\users\\lagab\\anaconda3\\lib\\site-packages (from pyod) (0.53.1)\n",
      "Requirement already satisfied: scikit-learn>=0.20.0 in c:\\users\\lagab\\anaconda3\\lib\\site-packages (from pyod) (1.1.1)\n",
      "Requirement already satisfied: statsmodels in c:\\users\\lagab\\anaconda3\\lib\\site-packages (from pyod) (0.12.2)\n",
      "Requirement already satisfied: setuptools in c:\\users\\lagab\\anaconda3\\lib\\site-packages (from numba>=0.51->pyod) (52.0.0.post20210125)\n",
      "Requirement already satisfied: llvmlite<0.37,>=0.36.0rc1 in c:\\users\\lagab\\anaconda3\\lib\\site-packages (from numba>=0.51->pyod) (0.36.0)\n",
      "Requirement already satisfied: threadpoolctl>=2.0.0 in c:\\users\\lagab\\anaconda3\\lib\\site-packages (from scikit-learn>=0.20.0->pyod) (2.1.0)\n",
      "Requirement already satisfied: pyparsing!=2.0.4,!=2.1.2,!=2.1.6,>=2.0.3 in c:\\users\\lagab\\anaconda3\\lib\\site-packages (from matplotlib->pyod) (2.4.7)\n",
      "Requirement already satisfied: python-dateutil>=2.1 in c:\\users\\lagab\\anaconda3\\lib\\site-packages (from matplotlib->pyod) (2.8.1)\n",
      "Requirement already satisfied: pillow>=6.2.0 in c:\\users\\lagab\\anaconda3\\lib\\site-packages (from matplotlib->pyod) (8.2.0)\n",
      "Requirement already satisfied: cycler>=0.10 in c:\\users\\lagab\\anaconda3\\lib\\site-packages (from matplotlib->pyod) (0.10.0)\n",
      "Requirement already satisfied: kiwisolver>=1.0.1 in c:\\users\\lagab\\anaconda3\\lib\\site-packages (from matplotlib->pyod) (1.3.1)\n",
      "Requirement already satisfied: pandas>=0.21 in c:\\users\\lagab\\anaconda3\\lib\\site-packages (from statsmodels->pyod) (1.2.4)\n",
      "Requirement already satisfied: patsy>=0.5 in c:\\users\\lagab\\anaconda3\\lib\\site-packages (from statsmodels->pyod) (0.5.1)\n",
      "Requirement already satisfied: pytz>=2017.3 in c:\\users\\lagab\\anaconda3\\lib\\site-packages (from pandas>=0.21->statsmodels->pyod) (2021.1)\n"
     ]
    }
   ],
   "source": [
    "#Additional installations\n",
    "!pip install pyod"
   ]
  },
  {
   "cell_type": "code",
   "execution_count": 70,
   "id": "0801ebdd",
   "metadata": {},
   "outputs": [],
   "source": [
    "#Importing the necessary libraries for the data mining process\n",
    "import numpy as np\n",
    "import pandas as pd\n",
    "import matplotlib.pyplot as plt\n",
    "from sklearn.preprocessing import StandardScaler\n",
    "from sklearn.model_selection import train_test_split\n",
    "from pyod.models.knn import KNN\n",
    "from sklearn.ensemble import RandomForestRegressor\n",
    "from sklearn.metrics import r2_score, mean_squared_error, mean_absolute_error\n",
    "from sklearn import svm\n",
    "from sklearn.metrics import confusion_matrix, ConfusionMatrixDisplay\n",
    "from sklearn.model_selection import GridSearchCV\n",
    "from sklearn.metrics import classification_report\n",
    "\n",
    "\n",
    "import warnings\n",
    "warnings.filterwarnings('ignore')"
   ]
  },
  {
   "cell_type": "code",
   "execution_count": 71,
   "id": "258ae5ab",
   "metadata": {},
   "outputs": [],
   "source": [
    "#Importing the dataset\n",
    "datapath = \"data/diamonds.csv\"\n",
    "raw_df = pd.read_csv(datapath, index_col = 0)"
   ]
  },
  {
   "cell_type": "markdown",
   "id": "ce25ab26",
   "metadata": {},
   "source": [
    "## Data Understanding"
   ]
  },
  {
   "cell_type": "markdown",
   "id": "5ff38af5",
   "metadata": {},
   "source": [
    "Explanation of the dataset columns:\n",
    "\n",
    "carat: Carat weight of the diamond\n",
    "\n",
    "cut: Describe cut quality of the diamond. Quality in increasing order Fair, Good, Very \n",
    "Good, Premium, Ideal\n",
    "\n",
    "color: Color of the diamond, with D being the best and J the worst\n",
    "clarity = How obvious inclusions are within the diamond: (I1 (worst), SI2, SI1, VS2, VS1, VVS2, \n",
    "VVS1, IF (best))\n",
    "    \n",
    "depth depth %: The height of a diamond, measured from the culet to the table, divided by \n",
    "its average girdle diameter\n",
    "\n",
    "table table%: The width of the diamond's table expressed as a percentage of its average \n",
    "diameter\n",
    "\n",
    "price: the price of the diamond in US dollars\n",
    "\n",
    "x: length mm\n",
    "\n",
    "y: width mm\n",
    "\n",
    "z: depth m"
   ]
  },
  {
   "cell_type": "code",
   "execution_count": 72,
   "id": "ac6382ad",
   "metadata": {},
   "outputs": [
    {
     "data": {
      "text/plain": [
       "(53940, 10)"
      ]
     },
     "execution_count": 72,
     "metadata": {},
     "output_type": "execute_result"
    }
   ],
   "source": [
    "#Checking the shape of the dataset\n",
    "raw_df.shape"
   ]
  },
  {
   "cell_type": "code",
   "execution_count": 73,
   "id": "2021b6e0",
   "metadata": {},
   "outputs": [
    {
     "data": {
      "text/html": [
       "<div>\n",
       "<style scoped>\n",
       "    .dataframe tbody tr th:only-of-type {\n",
       "        vertical-align: middle;\n",
       "    }\n",
       "\n",
       "    .dataframe tbody tr th {\n",
       "        vertical-align: top;\n",
       "    }\n",
       "\n",
       "    .dataframe thead th {\n",
       "        text-align: right;\n",
       "    }\n",
       "</style>\n",
       "<table border=\"1\" class=\"dataframe\">\n",
       "  <thead>\n",
       "    <tr style=\"text-align: right;\">\n",
       "      <th></th>\n",
       "      <th>carat</th>\n",
       "      <th>depth</th>\n",
       "      <th>table</th>\n",
       "      <th>price</th>\n",
       "      <th>x</th>\n",
       "      <th>y</th>\n",
       "      <th>z</th>\n",
       "    </tr>\n",
       "  </thead>\n",
       "  <tbody>\n",
       "    <tr>\n",
       "      <th>count</th>\n",
       "      <td>53940.000000</td>\n",
       "      <td>53940.000000</td>\n",
       "      <td>53940.000000</td>\n",
       "      <td>53940.000000</td>\n",
       "      <td>53940.000000</td>\n",
       "      <td>53940.000000</td>\n",
       "      <td>53940.000000</td>\n",
       "    </tr>\n",
       "    <tr>\n",
       "      <th>mean</th>\n",
       "      <td>0.797940</td>\n",
       "      <td>61.749405</td>\n",
       "      <td>57.457184</td>\n",
       "      <td>3932.799722</td>\n",
       "      <td>5.731157</td>\n",
       "      <td>5.734526</td>\n",
       "      <td>3.538734</td>\n",
       "    </tr>\n",
       "    <tr>\n",
       "      <th>std</th>\n",
       "      <td>0.474011</td>\n",
       "      <td>1.432621</td>\n",
       "      <td>2.234491</td>\n",
       "      <td>3989.439738</td>\n",
       "      <td>1.121761</td>\n",
       "      <td>1.142135</td>\n",
       "      <td>0.705699</td>\n",
       "    </tr>\n",
       "    <tr>\n",
       "      <th>min</th>\n",
       "      <td>0.200000</td>\n",
       "      <td>43.000000</td>\n",
       "      <td>43.000000</td>\n",
       "      <td>326.000000</td>\n",
       "      <td>0.000000</td>\n",
       "      <td>0.000000</td>\n",
       "      <td>0.000000</td>\n",
       "    </tr>\n",
       "    <tr>\n",
       "      <th>25%</th>\n",
       "      <td>0.400000</td>\n",
       "      <td>61.000000</td>\n",
       "      <td>56.000000</td>\n",
       "      <td>950.000000</td>\n",
       "      <td>4.710000</td>\n",
       "      <td>4.720000</td>\n",
       "      <td>2.910000</td>\n",
       "    </tr>\n",
       "    <tr>\n",
       "      <th>50%</th>\n",
       "      <td>0.700000</td>\n",
       "      <td>61.800000</td>\n",
       "      <td>57.000000</td>\n",
       "      <td>2401.000000</td>\n",
       "      <td>5.700000</td>\n",
       "      <td>5.710000</td>\n",
       "      <td>3.530000</td>\n",
       "    </tr>\n",
       "    <tr>\n",
       "      <th>75%</th>\n",
       "      <td>1.040000</td>\n",
       "      <td>62.500000</td>\n",
       "      <td>59.000000</td>\n",
       "      <td>5324.250000</td>\n",
       "      <td>6.540000</td>\n",
       "      <td>6.540000</td>\n",
       "      <td>4.040000</td>\n",
       "    </tr>\n",
       "    <tr>\n",
       "      <th>max</th>\n",
       "      <td>5.010000</td>\n",
       "      <td>79.000000</td>\n",
       "      <td>95.000000</td>\n",
       "      <td>18823.000000</td>\n",
       "      <td>10.740000</td>\n",
       "      <td>58.900000</td>\n",
       "      <td>31.800000</td>\n",
       "    </tr>\n",
       "  </tbody>\n",
       "</table>\n",
       "</div>"
      ],
      "text/plain": [
       "              carat         depth         table         price             x  \\\n",
       "count  53940.000000  53940.000000  53940.000000  53940.000000  53940.000000   \n",
       "mean       0.797940     61.749405     57.457184   3932.799722      5.731157   \n",
       "std        0.474011      1.432621      2.234491   3989.439738      1.121761   \n",
       "min        0.200000     43.000000     43.000000    326.000000      0.000000   \n",
       "25%        0.400000     61.000000     56.000000    950.000000      4.710000   \n",
       "50%        0.700000     61.800000     57.000000   2401.000000      5.700000   \n",
       "75%        1.040000     62.500000     59.000000   5324.250000      6.540000   \n",
       "max        5.010000     79.000000     95.000000  18823.000000     10.740000   \n",
       "\n",
       "                  y             z  \n",
       "count  53940.000000  53940.000000  \n",
       "mean       5.734526      3.538734  \n",
       "std        1.142135      0.705699  \n",
       "min        0.000000      0.000000  \n",
       "25%        4.720000      2.910000  \n",
       "50%        5.710000      3.530000  \n",
       "75%        6.540000      4.040000  \n",
       "max       58.900000     31.800000  "
      ]
     },
     "execution_count": 73,
     "metadata": {},
     "output_type": "execute_result"
    }
   ],
   "source": [
    "#Checking descriptive statistics for the numerical features\n",
    "raw_df.describe()"
   ]
  },
  {
   "cell_type": "code",
   "execution_count": 74,
   "id": "5d8074d2",
   "metadata": {
    "scrolled": true
   },
   "outputs": [
    {
     "name": "stdout",
     "output_type": "stream",
     "text": [
      "<class 'pandas.core.frame.DataFrame'>\n",
      "Int64Index: 53940 entries, 1 to 53940\n",
      "Data columns (total 10 columns):\n",
      " #   Column   Non-Null Count  Dtype  \n",
      "---  ------   --------------  -----  \n",
      " 0   carat    53940 non-null  float64\n",
      " 1   cut      53940 non-null  object \n",
      " 2   color    53940 non-null  object \n",
      " 3   clarity  53940 non-null  object \n",
      " 4   depth    53940 non-null  float64\n",
      " 5   table    53940 non-null  float64\n",
      " 6   price    53940 non-null  int64  \n",
      " 7   x        53940 non-null  float64\n",
      " 8   y        53940 non-null  float64\n",
      " 9   z        53940 non-null  float64\n",
      "dtypes: float64(6), int64(1), object(3)\n",
      "memory usage: 4.5+ MB\n"
     ]
    }
   ],
   "source": [
    "#Checking datatypes and if the total of non-null values match the number of rows of the dataset\n",
    "raw_df.info()"
   ]
  },
  {
   "cell_type": "code",
   "execution_count": 75,
   "id": "16fda071",
   "metadata": {
    "scrolled": true
   },
   "outputs": [
    {
     "data": {
      "text/plain": [
       "<AxesSubplot:title={'center':'Diamond price distribution'}, ylabel='Frequency'>"
      ]
     },
     "execution_count": 75,
     "metadata": {},
     "output_type": "execute_result"
    },
    {
     "data": {
      "image/png": "[encoded data removed]",
      "text/plain": [
       "<Figure size 432x288 with 1 Axes>"
      ]
     },
     "metadata": {
      "needs_background": "light"
     },
     "output_type": "display_data"
    }
   ],
   "source": [
    "#Checking the price distribution\n",
    "raw_df.price.plot.hist(title=\"Diamond price distribution\")"
   ]
  },
  {
   "cell_type": "code",
   "execution_count": 76,
   "id": "7a4bf32c",
   "metadata": {},
   "outputs": [
    {
     "data": {
      "text/plain": [
       "<AxesSubplot:title={'center':'Cut frequency'}>"
      ]
     },
     "execution_count": 76,
     "metadata": {},
     "output_type": "execute_result"
    },
    {
     "data": {
      "image/png": "[encoded data removed]",
      "text/plain": [
       "<Figure size 432x288 with 1 Axes>"
      ]
     },
     "metadata": {
      "needs_background": "light"
     },
     "output_type": "display_data"
    }
   ],
   "source": [
    "#Checking the cut frequency\n",
    "raw_df['cut'].value_counts().plot.bar(title=\"Cut frequency\")"
   ]
  },
  {
   "cell_type": "code",
   "execution_count": 77,
   "id": "78407c46",
   "metadata": {},
   "outputs": [
    {
     "data": {
      "text/html": [
       "<div>\n",
       "<style scoped>\n",
       "    .dataframe tbody tr th:only-of-type {\n",
       "        vertical-align: middle;\n",
       "    }\n",
       "\n",
       "    .dataframe tbody tr th {\n",
       "        vertical-align: top;\n",
       "    }\n",
       "\n",
       "    .dataframe thead th {\n",
       "        text-align: right;\n",
       "    }\n",
       "</style>\n",
       "<table border=\"1\" class=\"dataframe\">\n",
       "  <thead>\n",
       "    <tr style=\"text-align: right;\">\n",
       "      <th></th>\n",
       "      <th>carat</th>\n",
       "      <th>depth</th>\n",
       "      <th>table</th>\n",
       "      <th>price</th>\n",
       "      <th>x</th>\n",
       "      <th>y</th>\n",
       "      <th>z</th>\n",
       "    </tr>\n",
       "  </thead>\n",
       "  <tbody>\n",
       "    <tr>\n",
       "      <th>carat</th>\n",
       "      <td>1.000000</td>\n",
       "      <td>0.028224</td>\n",
       "      <td>0.181618</td>\n",
       "      <td>0.921591</td>\n",
       "      <td>0.975094</td>\n",
       "      <td>0.951722</td>\n",
       "      <td>0.953387</td>\n",
       "    </tr>\n",
       "    <tr>\n",
       "      <th>depth</th>\n",
       "      <td>0.028224</td>\n",
       "      <td>1.000000</td>\n",
       "      <td>-0.295779</td>\n",
       "      <td>-0.010647</td>\n",
       "      <td>-0.025289</td>\n",
       "      <td>-0.029341</td>\n",
       "      <td>0.094924</td>\n",
       "    </tr>\n",
       "    <tr>\n",
       "      <th>table</th>\n",
       "      <td>0.181618</td>\n",
       "      <td>-0.295779</td>\n",
       "      <td>1.000000</td>\n",
       "      <td>0.127134</td>\n",
       "      <td>0.195344</td>\n",
       "      <td>0.183760</td>\n",
       "      <td>0.150929</td>\n",
       "    </tr>\n",
       "    <tr>\n",
       "      <th>price</th>\n",
       "      <td>0.921591</td>\n",
       "      <td>-0.010647</td>\n",
       "      <td>0.127134</td>\n",
       "      <td>1.000000</td>\n",
       "      <td>0.884435</td>\n",
       "      <td>0.865421</td>\n",
       "      <td>0.861249</td>\n",
       "    </tr>\n",
       "    <tr>\n",
       "      <th>x</th>\n",
       "      <td>0.975094</td>\n",
       "      <td>-0.025289</td>\n",
       "      <td>0.195344</td>\n",
       "      <td>0.884435</td>\n",
       "      <td>1.000000</td>\n",
       "      <td>0.974701</td>\n",
       "      <td>0.970772</td>\n",
       "    </tr>\n",
       "    <tr>\n",
       "      <th>y</th>\n",
       "      <td>0.951722</td>\n",
       "      <td>-0.029341</td>\n",
       "      <td>0.183760</td>\n",
       "      <td>0.865421</td>\n",
       "      <td>0.974701</td>\n",
       "      <td>1.000000</td>\n",
       "      <td>0.952006</td>\n",
       "    </tr>\n",
       "    <tr>\n",
       "      <th>z</th>\n",
       "      <td>0.953387</td>\n",
       "      <td>0.094924</td>\n",
       "      <td>0.150929</td>\n",
       "      <td>0.861249</td>\n",
       "      <td>0.970772</td>\n",
       "      <td>0.952006</td>\n",
       "      <td>1.000000</td>\n",
       "    </tr>\n",
       "  </tbody>\n",
       "</table>\n",
       "</div>"
      ],
      "text/plain": [
       "          carat     depth     table     price         x         y         z\n",
       "carat  1.000000  0.028224  0.181618  0.921591  0.975094  0.951722  0.953387\n",
       "depth  0.028224  1.000000 -0.295779 -0.010647 -0.025289 -0.029341  0.094924\n",
       "table  0.181618 -0.295779  1.000000  0.127134  0.195344  0.183760  0.150929\n",
       "price  0.921591 -0.010647  0.127134  1.000000  0.884435  0.865421  0.861249\n",
       "x      0.975094 -0.025289  0.195344  0.884435  1.000000  0.974701  0.970772\n",
       "y      0.951722 -0.029341  0.183760  0.865421  0.974701  1.000000  0.952006\n",
       "z      0.953387  0.094924  0.150929  0.861249  0.970772  0.952006  1.000000"
      ]
     },
     "execution_count": 77,
     "metadata": {},
     "output_type": "execute_result"
    }
   ],
   "source": [
    "#Checking the linear correlation between the numerical variables\n",
    "raw_df.corr()"
   ]
  },
  {
   "cell_type": "code",
   "execution_count": 78,
   "id": "ba96689a",
   "metadata": {
    "scrolled": true
   },
   "outputs": [
    {
     "data": {
      "image/png": "[encoded data removed]",
      "text/plain": [
       "<Figure size 864x360 with 3 Axes>"
      ]
     },
     "metadata": {
      "needs_background": "light"
     },
     "output_type": "display_data"
    },
    {
     "data": {
      "image/png": "[encoded data removed]",
      "text/plain": [
       "<Figure size 864x360 with 3 Axes>"
      ]
     },
     "metadata": {
      "needs_background": "light"
     },
     "output_type": "display_data"
    },
    {
     "data": {
      "text/plain": [
       "Text(0.5, 1.0, 'table')"
      ]
     },
     "execution_count": 78,
     "metadata": {},
     "output_type": "execute_result"
    },
    {
     "data": {
      "image/png": "[encoded data removed]",
      "text/plain": [
       "<Figure size 288x360 with 1 Axes>"
      ]
     },
     "metadata": {
      "needs_background": "light"
     },
     "output_type": "display_data"
    }
   ],
   "source": [
    "#checking the percentiles and existence of univariate outliers\n",
    "fig, ax = plt.subplots(nrows=1, ncols=3, figsize=(12,5))\n",
    "ax[0].boxplot(raw_df['carat'])\n",
    "ax[0].set_title('carat')\n",
    "ax[1].boxplot(raw_df['x'])\n",
    "ax[1].set_title('x')\n",
    "ax[2].boxplot(raw_df['y'])\n",
    "ax[2].set_title('y')\n",
    "\n",
    "fig, ax = plt.subplots(nrows=1, ncols=3, figsize=(12,5))\n",
    "ax[0].boxplot(raw_df['z'])\n",
    "ax[0].set_title('z')\n",
    "ax[1].boxplot(raw_df['price'])\n",
    "ax[1].set_title('price')\n",
    "ax[2].boxplot(raw_df['depth'])\n",
    "ax[2].set_title('depth')\n",
    "plt.show()\n",
    "\n",
    "fig, ax = plt.subplots(figsize=(4,5))\n",
    "ax.boxplot(raw_df['table'])\n",
    "ax.set_title('table')\n"
   ]
  },
  {
   "cell_type": "markdown",
   "id": "61ec4742",
   "metadata": {},
   "source": [
    "## Data preparation"
   ]
  },
  {
   "cell_type": "markdown",
   "id": "96a6342d",
   "metadata": {},
   "source": [
    "### The regression dataset"
   ]
  },
  {
   "cell_type": "code",
   "execution_count": 79,
   "id": "ae5472e1",
   "metadata": {},
   "outputs": [],
   "source": [
    "#Creating the dataset for the regression problem\n",
    "df_reg = raw_df.copy()"
   ]
  },
  {
   "cell_type": "code",
   "execution_count": 80,
   "id": "23fcab53",
   "metadata": {},
   "outputs": [],
   "source": [
    "#Transforming categorical data in numerical data in the regression dataset\n",
    "df_reg = pd.get_dummies(df_reg)"
   ]
  },
  {
   "cell_type": "code",
   "execution_count": 81,
   "id": "85c37fc9",
   "metadata": {},
   "outputs": [],
   "source": [
    "#Dropping the rows with dimensions equal to zero (because that is not possible)\n",
    "df_reg = df_reg.drop(df_reg[df_reg['x'] == 0].index)\n",
    "df_reg = df_reg.drop(df_reg[df_reg['y'] == 0].index)\n",
    "df_reg = df_reg.drop(df_reg[df_reg['z'] == 0].index)"
   ]
  },
  {
   "cell_type": "code",
   "execution_count": 82,
   "id": "0fb38c5a",
   "metadata": {},
   "outputs": [],
   "source": [
    "#Creating and fitting an outlier detector\n",
    "detector = KNN()\n",
    "detector.fit(df_reg)\n",
    "outliers_reg = detector.labels_"
   ]
  },
  {
   "cell_type": "code",
   "execution_count": 83,
   "id": "377f8ebc",
   "metadata": {},
   "outputs": [],
   "source": [
    "#Creating a column in the dataset to identify the outliers\n",
    "df_reg['outliers'] = outliers_reg\n",
    "\n",
    "#Creating an array with outlier indexes\n",
    "index_outliers = df_reg[df_reg['outliers']==1].index.values\n",
    "\n",
    "#Removing the outliers\n",
    "for i in index_outliers:\n",
    "    df_reg = df_reg.drop(index=i)\n",
    "\n",
    "#Removing the outliers column\n",
    "df_reg = df_reg.drop('outliers', axis=1)"
   ]
  },
  {
   "cell_type": "markdown",
   "id": "3509255d",
   "metadata": {},
   "source": [
    "### The classification dataset"
   ]
  },
  {
   "cell_type": "code",
   "execution_count": 84,
   "id": "4dd71dac",
   "metadata": {},
   "outputs": [],
   "source": [
    "#Creating the dataset for the classification\n",
    "df_clf = raw_df.copy()\n",
    "df_clf = df_clf.drop([\"carat\",\"color\",\"price\",\"clarity\"], axis=1)"
   ]
  },
  {
   "cell_type": "code",
   "execution_count": 85,
   "id": "864f9ff5",
   "metadata": {},
   "outputs": [],
   "source": [
    "#Transforming the cut in numerical data\n",
    "df_clf = pd.get_dummies(df_clf)"
   ]
  },
  {
   "cell_type": "code",
   "execution_count": 86,
   "id": "140ae72b",
   "metadata": {},
   "outputs": [],
   "source": [
    "#Dropping the rows with dimensions equal to zero (because that is not possible)\n",
    "df_clf = df_clf.drop(df_clf[df_clf['x'] == 0].index)\n",
    "df_clf = df_clf.drop(df_clf[df_clf['y'] == 0].index)\n",
    "df_clf = df_clf.drop(df_clf[df_clf['z'] == 0].index)"
   ]
  },
  {
   "cell_type": "code",
   "execution_count": 87,
   "id": "df45fc99",
   "metadata": {},
   "outputs": [],
   "source": [
    "#Fitting the outlier detector in the classification dataset\n",
    "detector.fit(df_clf)\n",
    "outliers_clf = detector.labels_"
   ]
  },
  {
   "cell_type": "code",
   "execution_count": 88,
   "id": "2701c91b",
   "metadata": {},
   "outputs": [],
   "source": [
    "#Creating a column in the dataset to identify the outliers\n",
    "df_clf['outliers'] = outliers_clf\n",
    "\n",
    "##Creating an array with outlier indexes\n",
    "index_outliers2 = df_clf[df_clf['outliers']==1].index.values\n",
    "\n",
    "#Returning the text data to our labels\n",
    "df_clf['cut'] = raw_df['cut']\n",
    "df_clf = df_clf.drop(['cut_Fair','cut_Good','cut_Ideal','cut_Premium','cut_Very Good'], axis=1)\n",
    "\n",
    "#Removing the outliers\n",
    "for i in index_outliers2:\n",
    "    df_clf = df_clf.drop(index=i)\n",
    "    \n",
    "#Removing the outliers columns\n",
    "df_clf = df_clf.drop('outliers', axis=1)"
   ]
  },
  {
   "cell_type": "code",
   "execution_count": 89,
   "id": "e5c2fb1a",
   "metadata": {},
   "outputs": [],
   "source": [
    "#Standardizing the classification dataset\n",
    "df_clf[[\"depth\", \"table\",\"y\",\"x\",\"z\",]] = StandardScaler().fit_transform(df_clf[[\"depth\", \"table\",\"y\",\"x\",\"z\"]])"
   ]
  },
  {
   "cell_type": "markdown",
   "id": "341449ac",
   "metadata": {},
   "source": [
    "## Modeling"
   ]
  },
  {
   "cell_type": "markdown",
   "id": "df4dc7b5",
   "metadata": {},
   "source": [
    "### The regression model (predicting the price)"
   ]
  },
  {
   "cell_type": "code",
   "execution_count": 90,
   "id": "652e8785",
   "metadata": {},
   "outputs": [],
   "source": [
    "#Defining our independent and dependent variables for the regression problem\n",
    "independent_reg = df_reg.drop(\"price\", axis=1)\n",
    "dependent_reg = df_reg['price']"
   ]
  },
  {
   "cell_type": "code",
   "execution_count": 91,
   "id": "7af99b04",
   "metadata": {},
   "outputs": [],
   "source": [
    "#Spliting the data in training and test set for regression\n",
    "X_train_reg, X_test_reg, y_train_reg, y_test_reg = train_test_split(independent_reg, dependent_reg, test_size=0.2, \n",
    "                                                                    random_state=42)"
   ]
  },
  {
   "cell_type": "code",
   "execution_count": 92,
   "id": "71f7cb4c",
   "metadata": {},
   "outputs": [],
   "source": [
    "#Instanciating and fitting the regression model\n",
    "Model_reg = RandomForestRegressor(random_state=42, bootstrap= True, max_depth=50, max_features=10, min_samples_leaf= 1, \n",
    "                                  min_samples_split=5, n_estimators=100)\n",
    "Model_reg.fit(X_train_reg, y_train_reg)\n",
    "y_pred_reg = Model_reg.predict(X_test_reg)"
   ]
  },
  {
   "cell_type": "markdown",
   "id": "3afe6615",
   "metadata": {},
   "source": [
    "### The classification model (predicting the cut)"
   ]
  },
  {
   "cell_type": "code",
   "execution_count": 93,
   "id": "d822cc93",
   "metadata": {},
   "outputs": [],
   "source": [
    "#Defining our independent and dependent variables for the classification problem\n",
    "independent_clf = df_clf.drop(\"cut\", axis=1)\n",
    "dependent_clf = df_clf['cut']"
   ]
  },
  {
   "cell_type": "code",
   "execution_count": 94,
   "id": "561d6e20",
   "metadata": {},
   "outputs": [],
   "source": [
    "#Splitting the data in training and test set for classification\n",
    "X_train_clf, X_test_clf, y_train_clf, y_test_clf = train_test_split(independent_clf, dependent_clf, test_size=0.2, \n",
    "                                                                    random_state=42)"
   ]
  },
  {
   "cell_type": "code",
   "execution_count": 95,
   "id": "bc045022",
   "metadata": {},
   "outputs": [],
   "source": [
    "#Instanciating and fitting the classification model\n",
    "Model_clf = svm.SVC(random_state=42, C= 1000, gamma= 0.1, kernel='rbf', shrinking=False, tol= 1)\n",
    "Model_clf.fit(X_train_clf, y_train_clf)\n",
    "y_pred_clf = Model_clf.predict(X_test_clf)"
   ]
  },
  {
   "cell_type": "markdown",
   "id": "d5f56a64",
   "metadata": {},
   "source": [
    "## Evaluation"
   ]
  },
  {
   "cell_type": "markdown",
   "id": "54bce8c1",
   "metadata": {},
   "source": [
    "### Evaluating the regression model"
   ]
  },
  {
   "cell_type": "code",
   "execution_count": 96,
   "id": "c4c16d54",
   "metadata": {},
   "outputs": [
    {
     "name": "stdout",
     "output_type": "stream",
     "text": [
      "MSE : 175260.78234145412\n",
      "RMSE: 418.64159174818514\n",
      "MAE : 209.89047371732917\n",
      "R2  : 0.9793702047173429\n"
     ]
    }
   ],
   "source": [
    "# Checking the performance of the regression model\n",
    "mse = mean_squared_error(y_test_reg, y_pred_reg)\n",
    "print(\"MSE : \"+ str(mse))\n",
    "rmse= np.sqrt(mse)\n",
    "print(\"RMSE: \"+ str(rmse))\n",
    "mae = mean_absolute_error(y_test_reg, y_pred_reg)\n",
    "print(\"MAE : \"+ str(mae))\n",
    "r2 = r2_score(y_test_reg, y_pred_reg)\n",
    "print(\"R2  : \"+ str(r2))"
   ]
  },
  {
   "cell_type": "code",
   "execution_count": 97,
   "id": "20929e9e",
   "metadata": {},
   "outputs": [
    {
     "data": {
      "image/png": "[encoded data removed]",
      "text/plain": [
       "<Figure size 504x504 with 1 Axes>"
      ]
     },
     "metadata": {
      "needs_background": "light"
     },
     "output_type": "display_data"
    }
   ],
   "source": [
    "# Plotting the graph of the predicted  x actual actual values of the test set \n",
    "fig, ax = plt.subplots(figsize=(7, 7))\n",
    "ax.plot(y_test_reg, y_test_reg, label=\"Expected\", color = \"red\")\n",
    "ax.scatter(y_pred_reg, y_test_reg, label = \"Predicted\")\n",
    "\n",
    "ax.set(xlabel='Predicted', ylabel='Actual',\n",
    "       title='Relation: Predicted vs. Actual Value')\n",
    "\n",
    "ax.grid()\n",
    "ax.legend()\n",
    "\n",
    "plt.show()"
   ]
  },
  {
   "cell_type": "markdown",
   "id": "7d38e4ec",
   "metadata": {},
   "source": [
    "### Evaluating the classification model"
   ]
  },
  {
   "cell_type": "code",
   "execution_count": 98,
   "id": "fe63569b",
   "metadata": {},
   "outputs": [
    {
     "name": "stdout",
     "output_type": "stream",
     "text": [
      "              precision    recall  f1-score   support\n",
      "\n",
      "        Fair       0.99      0.99      0.99       104\n",
      "        Good       0.83      0.69      0.75       649\n",
      "       Ideal       0.84      0.95      0.89      4244\n",
      "     Premium       0.87      0.78      0.82      2509\n",
      "   Very Good       0.68      0.63      0.66      2200\n",
      "\n",
      "    accuracy                           0.82      9706\n",
      "   macro avg       0.84      0.81      0.82      9706\n",
      "weighted avg       0.81      0.82      0.81      9706\n",
      "\n"
     ]
    }
   ],
   "source": [
    "#Checking the performance of the classification model\n",
    "print(classification_report(y_test_clf, y_pred_clf))"
   ]
  },
  {
   "cell_type": "code",
   "execution_count": 99,
   "id": "82312d67",
   "metadata": {},
   "outputs": [
    {
     "data": {
      "image/png": "[encoded data removed]",
      "text/plain": [
       "<Figure size 432x288 with 2 Axes>"
      ]
     },
     "metadata": {
      "needs_background": "light"
     },
     "output_type": "display_data"
    }
   ],
   "source": [
    "#Ploting a confusion matrix for the test set of the classification model\n",
    "ConfusionMatrixDisplay.from_estimator(Model_clf, X_test_clf, y_test_clf)\n",
    "\n",
    "# plt.grid(visible=None)\n",
    "plt.show()"
   ]
  }
 ],
 "metadata": {
  "kernelspec": {
   "display_name": "Python 3",
   "language": "python",
   "name": "python3"
  },
  "language_info": {
   "codemirror_mode": {
    "name": "ipython",
    "version": 3
   },
   "file_extension": ".py",
   "mimetype": "text/x-python",
   "name": "python",
   "nbconvert_exporter": "python",
   "pygments_lexer": "ipython3",
   "version": "3.8.8"
  }
 },
 "nbformat": 4,
 "nbformat_minor": 5
}
